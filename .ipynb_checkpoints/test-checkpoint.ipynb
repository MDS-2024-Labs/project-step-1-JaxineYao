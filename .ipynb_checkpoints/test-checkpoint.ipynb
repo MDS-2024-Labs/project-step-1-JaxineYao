{
 "cells": [
  {
   "cell_type": "markdown",
   "id": "4897deab-16c2-4402-ba94-ff2949d3c269",
   "metadata": {},
   "source": [
    "# import os\n",
    "os.chdir(\"/Users/orange/project/1125/project-step-1-JaxineYao/Project1\")\n",
    "\n",
    "# 确认当前工作目录\n",
    "print(os.getcwd())\n",
    "\n",
    "# 运行 Python 文件\n",
    "%run /Users/orange/project/1125/project-step-1-JaxineYao/Project1/main.py"
   ]
  },
  {
   "cell_type": "code",
   "execution_count": 10,
   "id": "dd77c721-4e3f-48d8-9231-56392555f4b6",
   "metadata": {},
   "outputs": [
    {
     "ename": "NameError",
     "evalue": "name 'DataAccess' is not defined",
     "output_type": "error",
     "traceback": [
      "\u001b[0;31m---------------------------------------------------------------------------\u001b[0m",
      "\u001b[0;31mNameError\u001b[0m                                 Traceback (most recent call last)",
      "Cell \u001b[0;32mIn[10], line 1\u001b[0m\n\u001b[0;32m----> 1\u001b[0m \u001b[38;5;28mprint\u001b[39m(DataAccess\u001b[38;5;241m.\u001b[39muser_credentials)\n",
      "\u001b[0;31mNameError\u001b[0m: name 'DataAccess' is not defined"
     ]
    }
   ],
   "source": [
    "print(DataAccess.user_credentials)\n",
    "    "
   ]
  },
  {
   "cell_type": "code",
   "execution_count": 3,
   "id": "66ebd90c-f09a-46be-b6f1-2b438680d54c",
   "metadata": {},
   "outputs": [
    {
     "name": "stdout",
     "output_type": "stream",
     "text": [
      "Test data has been set up.\n",
      "=== Testing Data Access ===\n",
      "Adding a new student...\n"
     ]
    },
    {
     "name": "stdin",
     "output_type": "stream",
     "text": [
      "Input student ID (or '-1' to end):  -1\n"
     ]
    },
    {
     "name": "stdout",
     "output_type": "stream",
     "text": [
      "Listing all students...\n",
      "Student ID: S001, Name: Richard, Gender: Male\n",
      "Student ID: S002, Name: Mary, Gender: Female\n",
      "Student ID: S003, Name: Michael, Gender: Male\n",
      "Student ID: S004, Name: William, Gender: Male\n",
      "Student ID: S005, Name: Patricia, Gender: Female\n",
      "Student ID: S006, Name: Emma, Gender: Female\n",
      "Student ID: S007, Name: Lauren, Gender: Male\n",
      "Student ID: S008, Name: Elizabeth, Gender: Female\n",
      "Student ID: S009, Name: John, Gender: Male\n",
      "Student ID: S010, Name: Jessica, Gender: Female\n",
      "\n",
      "=== Testing Encryption ===\n",
      "Encrypted password: gAAAAABnROvfaFiAYgG2NtHHcBuSIw_uNZjFRV8yw5_fxPjpfB9tLmySSadEpu72P5naNUm5CKvNOTxpH97efRRE0djyrQXpgA==\n",
      "Decrypted password: secure_password\n",
      "\n",
      "=== Testing Data Analysis ===\n",
      "Displaying average grade for student S001...\n",
      "Average grade for Student ID S001: 87.50\n",
      "\n",
      "Converting grades to GPA for student S001...\n",
      "GPA for Student ID S001: 3.50\n",
      "\n",
      "=== Testing Person Entities ===\n",
      "Student created: Student ID: S001, Name: Alice, Gender: Female\n",
      "Teacher created: Teacher ID: T001, Name: Bob, Login: bob\n"
     ]
    }
   ],
   "source": [
    "import os\n",
    "os.chdir(\"/Users/orange/project/1123/project-step-1-JaxineYao/Project1\")\n",
    "# test_package_usage.py\n",
    "\n",
    "# Import necessary modules and classes\n",
    "from data_access_analysis.data_access import DataAccess\n",
    "from encryption import Encryption\n",
    "from data_access_analysis.data_analysis import DataAnalysis\n",
    "from person.student import Student\n",
    "from person.teacher import Teacher\n",
    "\n",
    "\n",
    "def setup_test_data():\n",
    "    \"\"\"\n",
    "    Sets up initial test data for students, teachers, and grades.\n",
    "    \"\"\"\n",
    "    from grade_management.grade import Grade\n",
    "    \n",
    "    # Adding grades for testing\n",
    "    DataAccess.grades_list = [\n",
    "        Grade(student_id=\"S001\", course_id=\"C001\", grade_value=85),\n",
    "        Grade(student_id=\"S001\", course_id=\"C002\", grade_value=90),\n",
    "        Grade(student_id=\"S002\", course_id=\"C003\", grade_value=70),\n",
    "        Grade(student_id=\"S002\", course_id=\"C004\", grade_value=60),\n",
    "    ]\n",
    "    print(\"Test data has been set up.\")\n",
    "\n",
    "def test_data_access():\n",
    "    \"\"\"\n",
    "    Tests DataAccess functionality such as adding and listing students.\n",
    "    \"\"\"\n",
    "    print(\"=== Testing Data Access ===\")\n",
    "    # Example: Adding a new student\n",
    "    print(\"Adding a new student...\")\n",
    "    DataAccess.add_student()\n",
    "    \n",
    "    # Example: Listing all students\n",
    "    print(\"Listing all students...\")\n",
    "    DataAccess.list_all_students()\n",
    "\n",
    "def test_encryption():\n",
    "    \"\"\"\n",
    "    Tests Encryption module for password encryption and decryption.\n",
    "    \"\"\"\n",
    "    print(\"\\n=== Testing Encryption ===\")\n",
    "    # Example: Encrypting and decrypting a password\n",
    "    password = \"secure_password\"\n",
    "    encrypted = Encryption.encrypt(password)\n",
    "    print(f\"Encrypted password: {encrypted}\")\n",
    "    \n",
    "    decrypted = Encryption.decrypt(encrypted)\n",
    "    print(f\"Decrypted password: {decrypted}\")\n",
    "\n",
    "def test_data_analysis():\n",
    "    \"\"\"\n",
    "    Tests DataAnalysis module for grade analysis and GPA calculation.\n",
    "    \"\"\"\n",
    "    print(\"\\n=== Testing Data Analysis ===\")\n",
    "    student_id = \"S001\"\n",
    "    print(f\"Displaying average grade for student {student_id}...\")\n",
    "    DataAnalysis.display_average_grade(student_id)\n",
    "\n",
    "    print(f\"\\nConverting grades to GPA for student {student_id}...\")\n",
    "    DataAnalysis.convert_grades_to_gpa(student_id)\n",
    "\n",
    "def test_person_entities():\n",
    "    \"\"\"\n",
    "    Tests creation of Student and Teacher entities.\n",
    "    \"\"\"\n",
    "    print(\"\\n=== Testing Person Entities ===\")\n",
    "    # Example: Creating a student\n",
    "    student = Student(name=\"Alice\", gender=\"F\", student_id=\"S001\")\n",
    "    print(f\"Student created: {student}\")\n",
    "    \n",
    "    # Example: Creating a teacher\n",
    "    teacher = Teacher(name=\"Bob\", teacher_id=\"T001\", login_name=\"bob\", password=\"12345\")\n",
    "    print(f\"Teacher created: {teacher}\")\n",
    "\n",
    "# Run all test cases\n",
    "if __name__ == \"__main__\":\n",
    "    # Set up initial test data\n",
    "    setup_test_data()\n",
    "\n",
    "    # Run individual test functions\n",
    "    test_data_access()\n",
    "    test_encryption()\n",
    "    test_data_analysis()\n",
    "    test_person_entities()"
   ]
  },
  {
   "cell_type": "code",
   "execution_count": 5,
   "id": "ecb1bf3c-467c-4ba6-8764-cb7cf4a79e91",
   "metadata": {},
   "outputs": [
    {
     "ename": "NameError",
     "evalue": "name 'Person' is not defined",
     "output_type": "error",
     "traceback": [
      "\u001b[0;31m---------------------------------------------------------------------------\u001b[0m",
      "\u001b[0;31mNameError\u001b[0m                                 Traceback (most recent call last)",
      "Cell \u001b[0;32mIn[5], line 2\u001b[0m\n\u001b[1;32m      1\u001b[0m \u001b[38;5;66;03m# 测试不同的 gender 输入\u001b[39;00m\n\u001b[0;32m----> 2\u001b[0m person1 \u001b[38;5;241m=\u001b[39m Person(name\u001b[38;5;241m=\u001b[39m\u001b[38;5;124m\"\u001b[39m\u001b[38;5;124mAlice\u001b[39m\u001b[38;5;124m\"\u001b[39m, gender\u001b[38;5;241m=\u001b[39m\u001b[38;5;124m\"\u001b[39m\u001b[38;5;124mF\u001b[39m\u001b[38;5;124m\"\u001b[39m)\n\u001b[1;32m      3\u001b[0m person2 \u001b[38;5;241m=\u001b[39m Person(name\u001b[38;5;241m=\u001b[39m\u001b[38;5;124m\"\u001b[39m\u001b[38;5;124mBob\u001b[39m\u001b[38;5;124m\"\u001b[39m, gender\u001b[38;5;241m=\u001b[39m\u001b[38;5;124m\"\u001b[39m\u001b[38;5;124mM\u001b[39m\u001b[38;5;124m\"\u001b[39m)\n\u001b[1;32m      4\u001b[0m person3 \u001b[38;5;241m=\u001b[39m Person(name\u001b[38;5;241m=\u001b[39m\u001b[38;5;124m\"\u001b[39m\u001b[38;5;124mCharlie\u001b[39m\u001b[38;5;124m\"\u001b[39m, gender\u001b[38;5;241m=\u001b[39m\u001b[38;5;28;01mNone\u001b[39;00m)\n",
      "\u001b[0;31mNameError\u001b[0m: name 'Person' is not defined"
     ]
    }
   ],
   "source": [
    "# 测试不同的 gender 输入\n",
    "person1 = Person(name=\"Alice\", gender=\"F\")\n",
    "person2 = Person(name=\"Bob\", gender=\"M\")\n",
    "person3 = Person(name=\"Charlie\", gender=None)\n",
    "person4 = Person(name=\"Taylor\", gender=\"X\")  # 未知性别\n",
    "\n",
    "# 打印对象信息\n",
    "print(person1)  # Output: Name: Alice, Gender: Female\n",
    "print(person2)  # Output: Name: Bob, Gender: Male\n",
    "print(person3)  # Output: Name: Charlie, Gender: Unknown\n",
    "print(person4)  # Output: Name: Taylor, Gender: Unknown"
   ]
  },
  {
   "cell_type": "code",
   "execution_count": null,
   "id": "10dc0199-95ed-4674-b838-54b6904b28e2",
   "metadata": {},
   "outputs": [],
   "source": []
  },
  {
   "cell_type": "code",
   "execution_count": null,
   "id": "c10faefd-cdce-46c4-9b43-bc572468a500",
   "metadata": {},
   "outputs": [],
   "source": []
  }
 ],
 "metadata": {
  "kernelspec": {
   "display_name": "Python 3 (ipykernel)",
   "language": "python",
   "name": "python3"
  },
  "language_info": {
   "codemirror_mode": {
    "name": "ipython",
    "version": 3
   },
   "file_extension": ".py",
   "mimetype": "text/x-python",
   "name": "python",
   "nbconvert_exporter": "python",
   "pygments_lexer": "ipython3",
   "version": "3.12.4"
  }
 },
 "nbformat": 4,
 "nbformat_minor": 5
}
