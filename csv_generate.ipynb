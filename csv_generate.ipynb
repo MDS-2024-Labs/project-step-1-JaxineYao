{
 "cells": [
  {
   "cell_type": "code",
   "execution_count": 9,
   "id": "0362f728-c3c8-4d28-b518-c37e31b7977d",
   "metadata": {},
   "outputs": [
    {
     "name": "stdout",
     "output_type": "stream",
     "text": [
      "Initial CSV saved to: /Users/orange/project-step-1-JaxineYao/initial_login_data.csv\n",
      "Teacher Upload CSV saved to: /Users/orange/project-step-1-JaxineYao/teacher_upload_full_data.csv\n"
     ]
    }
   ],
   "source": [
    "import pandas as pd\n",
    "\n",
    "# Generate the initial CSV for testing login\n",
    "initial_data = {\n",
    "    \"ID\": [f\"S{i:03d}\" for i in range(1, 11)] + [f\"T{i:03d}\" for i in range(1, 6)],\n",
    "    \"Name\": [f\"Student_{i}\" for i in range(1, 11)] + [f\"Teacher_{i}\" for i in range(1, 6)],\n",
    "    \"Role\": [\"Student\"] * 10 + [\"Teacher\"] * 5,\n",
    "    \"Password\": [f\"{i:03d}\"[-3:] for i in range(1, 11)] + [f\"{i:03d}\"[-3:] for i in range(1, 6)],\n",
    "}\n",
    "\n",
    "# Generate the second CSV for teacher upload\n",
    "teacher_upload_full_data = {\n",
    "    \"Student_ID\": [f\"S{i:03d}\" for i in range(1, 11) for _ in range(5)],  # All students\n",
    "    \"Course_ID\": [f\"C{j:03d}\" for _ in range(10) for j in range(1, 6)],  # All courses\n",
    "    \"Grade\": [round(60 + (i * 2 + j * 3) % 40, 2) for i in range(1, 11) for j in range(1, 6)],\n",
    "    \"Course_Name\": [f\"Course_{j}\" for _ in range(10) for j in range(1, 6)],\n",
    "    \"Teacher_ID\": [f\"T{(j % 5) + 1:03d}\" for _ in range(10) for j in range(1, 6)],\n",
    "}\n",
    "\n",
    "# Create DataFrames\n",
    "initial_csv_df = pd.DataFrame(initial_data)\n",
    "teacher_upload_csv_df = pd.DataFrame(teacher_upload_full_data)\n",
    "\n",
    "# Save the files (update paths according to your environment)\n",
    "initial_csv_path = \"/Users/orange/project-step-1-JaxineYao/initial_login_data.csv\"\n",
    "teacher_upload_csv_path = \"/Users/orange/project-step-1-JaxineYao/teacher_upload_full_data.csv\"\n",
    "\n",
    "initial_csv_df.to_csv(initial_csv_path, index=False)\n",
    "teacher_upload_csv_df.to_csv(teacher_upload_csv_path, index=False)\n",
    "\n",
    "print(f\"Initial CSV saved to: {initial_csv_path}\")\n",
    "print(f\"Teacher Upload CSV saved to: {teacher_upload_csv_path}\")\n"
   ]
  },
  {
   "cell_type": "code",
   "execution_count": null,
   "id": "31625e67-4e74-40f6-afea-d3041a969ed3",
   "metadata": {},
   "outputs": [],
   "source": []
  }
 ],
 "metadata": {
  "kernelspec": {
   "display_name": "Python 3 (ipykernel)",
   "language": "python",
   "name": "python3"
  },
  "language_info": {
   "codemirror_mode": {
    "name": "ipython",
    "version": 3
   },
   "file_extension": ".py",
   "mimetype": "text/x-python",
   "name": "python",
   "nbconvert_exporter": "python",
   "pygments_lexer": "ipython3",
   "version": "3.12.4"
  }
 },
 "nbformat": 4,
 "nbformat_minor": 5
}
