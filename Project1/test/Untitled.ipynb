{
 "cells": [
  {
   "cell_type": "code",
   "execution_count": 1,
   "id": "517c5d42-7805-4c6b-8dde-9f05668ccecd",
   "metadata": {},
   "outputs": [
    {
     "name": "stdout",
     "output_type": "stream",
     "text": [
      "Traceback (most recent call last):\n",
      "  File \"/Users/orange/project/test/modified_test_course.py\", line 1, in <module>\n",
      "    from grade_management.course import Course\n",
      "ModuleNotFoundError: No module named 'grade_management'\n"
     ]
    }
   ],
   "source": [
    "# 运行一个测试文件\n",
    "!python /Users/orange/project/test/modified_test_course.py"
   ]
  },
  {
   "cell_type": "code",
   "execution_count": 15,
   "id": "a2f4da6f-300b-460a-93dc-1f69296ed09f",
   "metadata": {},
   "outputs": [
    {
     "name": "stderr",
     "output_type": "stream",
     "text": [
      "E\n",
      "======================================================================\n",
      "ERROR: modified_test_course (unittest.loader._FailedTest.modified_test_course)\n",
      "----------------------------------------------------------------------\n",
      "ImportError: Failed to import test module: modified_test_course\n",
      "Traceback (most recent call last):\n",
      "  File \"/opt/anaconda3/lib/python3.12/unittest/loader.py\", line 137, in loadTestsFromName\n",
      "    module = __import__(module_name)\n",
      "             ^^^^^^^^^^^^^^^^^^^^^^^\n",
      "  File \"/Users/orange/project/test/modified_test_course.py\", line 1, in <module>\n",
      "    from grade_management.course import Course\n",
      "ModuleNotFoundError: No module named 'grade_management'\n",
      "\n",
      "\n",
      "----------------------------------------------------------------------\n",
      "Ran 1 test in 0.003s\n",
      "\n",
      "FAILED (errors=1)\n"
     ]
    },
    {
     "data": {
      "text/plain": [
       "<unittest.runner.TextTestResult run=1 errors=1 failures=0>"
      ]
     },
     "execution_count": 15,
     "metadata": {},
     "output_type": "execute_result"
    }
   ],
   "source": [
    "import sys\n",
    "import unittest\n",
    "\n",
    "# 添加 Project1 的父目录到 sys.path\n",
    "sys.path.append('/Users/orange/project/1125/Project1')\n",
    "\n",
    "# 加载测试文件\n",
    "suite = unittest.TestLoader().loadTestsFromName('modified_test_course')\n",
    "\n",
    "# 运行测试\n",
    "runner = unittest.TextTestRunner()\n",
    "runner.run(suite)"
   ]
  },
  {
   "cell_type": "code",
   "execution_count": 11,
   "id": "2c34043e-8887-4194-bf14-8c55485c3032",
   "metadata": {},
   "outputs": [
    {
     "ename": "ModuleNotFoundError",
     "evalue": "No module named 'grade_management'",
     "output_type": "error",
     "traceback": [
      "\u001b[0;31m---------------------------------------------------------------------------\u001b[0m",
      "\u001b[0;31mModuleNotFoundError\u001b[0m                       Traceback (most recent call last)",
      "Cell \u001b[0;32mIn[11], line 1\u001b[0m\n\u001b[0;32m----> 1\u001b[0m \u001b[38;5;28;01mimport\u001b[39;00m \u001b[38;5;21;01mmodified_test_course\u001b[39;00m\n\u001b[1;32m      2\u001b[0m \u001b[38;5;28mprint\u001b[39m(modified_test_course)\n",
      "File \u001b[0;32m~/project/test/modified_test_course.py:1\u001b[0m\n\u001b[0;32m----> 1\u001b[0m \u001b[38;5;28;01mfrom\u001b[39;00m \u001b[38;5;21;01mgrade_management\u001b[39;00m\u001b[38;5;21;01m.\u001b[39;00m\u001b[38;5;21;01mcourse\u001b[39;00m \u001b[38;5;28;01mimport\u001b[39;00m Course\n\u001b[1;32m      3\u001b[0m \u001b[38;5;28;01mclass\u001b[39;00m \u001b[38;5;21;01mTestCourse\u001b[39;00m(unittest\u001b[38;5;241m.\u001b[39mTestCase):\n\u001b[1;32m      5\u001b[0m     \u001b[38;5;129m@classmethod\u001b[39m\n\u001b[1;32m      6\u001b[0m     \u001b[38;5;28;01mdef\u001b[39;00m \u001b[38;5;21msetUpClass\u001b[39m(\u001b[38;5;28mcls\u001b[39m):\n",
      "\u001b[0;31mModuleNotFoundError\u001b[0m: No module named 'grade_management'"
     ]
    }
   ],
   "source": [
    "import modified_test_course\n",
    "print(modified_test_course)"
   ]
  },
  {
   "cell_type": "code",
   "execution_count": null,
   "id": "38ab5cbb-f6f6-4606-90d1-15d9eebda3ab",
   "metadata": {},
   "outputs": [],
   "source": []
  }
 ],
 "metadata": {
  "kernelspec": {
   "display_name": "Python 3 (ipykernel)",
   "language": "python",
   "name": "python3"
  },
  "language_info": {
   "codemirror_mode": {
    "name": "ipython",
    "version": 3
   },
   "file_extension": ".py",
   "mimetype": "text/x-python",
   "name": "python",
   "nbconvert_exporter": "python",
   "pygments_lexer": "ipython3",
   "version": "3.12.4"
  }
 },
 "nbformat": 4,
 "nbformat_minor": 5
}
